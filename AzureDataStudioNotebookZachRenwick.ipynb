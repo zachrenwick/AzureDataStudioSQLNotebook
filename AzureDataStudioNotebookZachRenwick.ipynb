{
    "metadata": {
        "kernelspec": {
            "name": "SQL",
            "display_name": "SQL",
            "language": "sql"
        },
        "language_info": {
            "name": "sql",
            "version": ""
        }
    },
    "nbformat_minor": 2,
    "nbformat": 4,
    "cells": [
        {
            "cell_type": "markdown",
            "source": "# How to: Azure Data Studio SQL Notebooks \r\n\r\nNotebooks like Jupyter are all the rage for data science applications, especially when using R or Python. But what about good ole' SQL? Let's our analysts' [near universal] SQL abilities. They should also be able to take advantage of notebooks too! \r\n\r\nNotebooks are a great way to analyze data and share the results with others. \r\n\r\n<b> Why? </b> The steps (code) are reproducable and auditable, so the analysis can be verified by other users. The SQL notebooks can also be added to source/version control. These features are useful when you compare trying to verify Excel analysis spreadsheets (good god!)\r\n\r\nThankfully, Microsoft now supports creating SQL notebooks in Azure Data studio. \r\n\r\n## How does it work? \r\n\r\nNotebooks are broken up into code and markdown (text) snippets. The markdown snippets are where you write your words/steps/analysis descriptions. The code snippets contain the SQL code/queries that get sent to your connected databases.\r\n\r\nBelow, we have an example query to show the top 10 sales product subcategories by total sales from Microsoft's Adventureworks sample db: https://docs.microsoft.com/en-us/sql/t-sql/queries/select-examples-transact-sql",
            "metadata": {}
        },
        {
            "cell_type": "code",
            "source": "SELECT TOP 10\r\n       dps.EnglishProductSubcategoryName AS [Product Subcategory],\r\n       CAST(SUM(fsales.SalesAmount) AS INT) AS Sales\r\nFROM AdventureWorksDW2014.dbo.FactInternetSales fsales\r\n    JOIN dbo.DimProduct dp\r\n        ON dp.ProductKey = fsales.ProductKey\r\n    JOIN dbo.DimProductSubcategory dps\r\n        ON dps.ProductSubcategoryKey = dp.ProductSubcategoryKey\r\nGROUP BY dps.EnglishProductSubcategoryName\r\nORDER BY Sales DESC;",
            "metadata": {},
            "outputs": [
                {
                    "output_type": "display_data",
                    "data": {
                        "text/html": "(10 rows affected)"
                    },
                    "metadata": {}
                },
                {
                    "output_type": "display_data",
                    "data": {
                        "text/html": "Total execution time: 00:00:00.018"
                    },
                    "metadata": {}
                },
                {
                    "output_type": "execute_result",
                    "metadata": {},
                    "execution_count": 5,
                    "data": {
                        "application/vnd.dataresource+json": {
                            "schema": {
                                "fields": [
                                    {
                                        "name": "Product Subcategory"
                                    },
                                    {
                                        "name": "Sales"
                                    }
                                ]
                            },
                            "data": [
                                {
                                    "0": "Road Bikes",
                                    "1": "14520584"
                                },
                                {
                                    "0": "Mountain Bikes",
                                    "1": "9952760"
                                },
                                {
                                    "0": "Touring Bikes",
                                    "1": "3844801"
                                },
                                {
                                    "0": "Tires and Tubes",
                                    "1": "245529"
                                },
                                {
                                    "0": "Helmets",
                                    "1": "225336"
                                },
                                {
                                    "0": "Jerseys",
                                    "1": "172951"
                                },
                                {
                                    "0": "Shorts",
                                    "1": "71320"
                                },
                                {
                                    "0": "Bottles and Cages",
                                    "1": "56798"
                                },
                                {
                                    "0": "Fenders",
                                    "1": "46620"
                                },
                                {
                                    "0": "Hydration Packs",
                                    "1": "40308"
                                }
                            ]
                        },
                        "text/html": "<table><tr><th>Product Subcategory</th><th>Sales</th></tr><tr><td>Road Bikes</td><td>14520584</td></tr><tr><td>Mountain Bikes</td><td>9952760</td></tr><tr><td>Touring Bikes</td><td>3844801</td></tr><tr><td>Tires and Tubes</td><td>245529</td></tr><tr><td>Helmets</td><td>225336</td></tr><tr><td>Jerseys</td><td>172951</td></tr><tr><td>Shorts</td><td>71320</td></tr><tr><td>Bottles and Cages</td><td>56798</td></tr><tr><td>Fenders</td><td>46620</td></tr><tr><td>Hydration Packs</td><td>40308</td></tr></table>"
                    }
                }
            ],
            "execution_count": 5
        },
        {
            "cell_type": "markdown",
            "source": "## In closing\r\n\r\nAgain, what's so great about these notebooks is that another user can pick up this file, and re-run the code after the live data changes. For example, if we run a query again in a month to see how average product discounts are changing.",
            "metadata": {}
        }
    ]
}
